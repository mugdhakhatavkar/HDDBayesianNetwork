{
  "nbformat": 4,
  "nbformat_minor": 0,
  "metadata": {
    "colab": {
      "name": "dataAggregation.ipynb",
      "provenance": [],
      "collapsed_sections": [],
      "machine_shape": "hm",
      "include_colab_link": true
    },
    "kernelspec": {
      "name": "python3",
      "display_name": "Python 3"
    },
    "accelerator": "TPU"
  },
  "cells": [
    {
      "cell_type": "markdown",
      "metadata": {
        "id": "view-in-github",
        "colab_type": "text"
      },
      "source": [
        "<a href=\"https://colab.research.google.com/github/mugdhakhatavkar/HDDBayesianNetwork/blob/master/dataAggregation.ipynb\" target=\"_parent\"><img src=\"https://colab.research.google.com/assets/colab-badge.svg\" alt=\"Open In Colab\"/></a>"
      ]
    },
    {
      "cell_type": "markdown",
      "metadata": {
        "id": "fuiSFGBcbTtq",
        "colab_type": "text"
      },
      "source": [
        "# Mounting your drive "
      ]
    },
    {
      "cell_type": "code",
      "metadata": {
        "id": "5Bbqlb5fG6y5",
        "colab_type": "code",
        "outputId": "7547402d-4c56-4f32-b825-d9064c38ea44",
        "colab": {
          "base_uri": "https://localhost:8080/",
          "height": 55
        }
      },
      "source": [
        "from google.colab import drive\n",
        "drive.mount('/content/drive')"
      ],
      "execution_count": 0,
      "outputs": [
        {
          "output_type": "stream",
          "text": [
            "Drive already mounted at /content/drive; to attempt to forcibly remount, call drive.mount(\"/content/drive\", force_remount=True).\n"
          ],
          "name": "stdout"
        }
      ]
    },
    {
      "cell_type": "code",
      "metadata": {
        "id": "r2MJ3ANZ6DoT",
        "colab_type": "code",
        "colab": {}
      },
      "source": [
        "from google.colab import files \n"
      ],
      "execution_count": 0,
      "outputs": []
    },
    {
      "cell_type": "code",
      "metadata": {
        "id": "ggFb9jHS3wBC",
        "colab_type": "code",
        "colab": {}
      },
      "source": [
        "import os\n",
        "import glob\n",
        "import pandas as pd\n",
        "import numpy as np"
      ],
      "execution_count": 0,
      "outputs": []
    },
    {
      "cell_type": "markdown",
      "metadata": {
        "id": "deHT6D1gbuAH",
        "colab_type": "text"
      },
      "source": [
        "# Unzip Data Files \n"
      ]
    },
    {
      "cell_type": "code",
      "metadata": {
        "id": "cxuMNUmmgAdc",
        "colab_type": "code",
        "colab": {}
      },
      "source": [
        "import zipfile\n",
        "zip_ref = zipfile.ZipFile(\"/content/drive/My Drive/HDD/data/data_2015.zip\", 'r')\n",
        "zip_ref.extractall(\"/content/drive/My Drive/HDD/data/data_2015/\")\n",
        "zip_ref.close()"
      ],
      "execution_count": 0,
      "outputs": []
    },
    {
      "cell_type": "markdown",
      "metadata": {
        "id": "BARomIhcw4rd",
        "colab_type": "text"
      },
      "source": [
        "# Removing null values and rows with fewer values"
      ]
    },
    {
      "cell_type": "code",
      "metadata": {
        "id": "E33QJtJZOBMW",
        "colab_type": "code",
        "colab": {}
      },
      "source": [
        "def preprocessExcelData(fileName):\n",
        "\n",
        "    file_name = fileName\n",
        "    file = r'/content/drive/My Drive/HDD/data/data_2015/2015/' + file_name\n",
        "\n",
        "    df = pd.read_csv(file)\n",
        "    # dropping column with all null values \n",
        "    df.dropna(axis = 1, how ='all', inplace = True) \n",
        "    column_list = df.columns.tolist()\n",
        "\n",
        "    exclude_null_list = {'date','serial_number','model','capacity_bytes','failure'}\n",
        "    for e in exclude_null_list:\n",
        "      if e in column_list:\n",
        "        column_list.remove(e)\n",
        "\n",
        "    # dropping row with all null values \n",
        "    df.dropna(axis = 0, how ='all', subset = column_list, inplace=True)\n",
        "    #df.dropna(axis = 1,thresh=3, inplace=True)\n",
        "    df.dropna(axis = 0,thresh=42, inplace=True)\n",
        "    return(df)"
      ],
      "execution_count": 0,
      "outputs": []
    },
    {
      "cell_type": "code",
      "metadata": {
        "id": "jRE7VG3yocfO",
        "colab_type": "code",
        "colab": {}
      },
      "source": [
        "os.chdir(\"/content/drive/My Drive/HDD/data/data_2015/2015\")\n",
        "extension = 'csv'\n",
        "all_filenames = [i for i in glob.glob('*.{}'.format(extension))]\n",
        "#for f in all_filenames\n",
        "#    df_q1_2018.append(preprocessExcelData(f))\n",
        "df_entire = pd.DataFrame()\n",
        "#[df_entire = df_entire.append(preprocessExcelData(f)) for f in all_filenames] \n",
        "for f in all_filenames :\n",
        "    df_entire = df_entire.append(preprocessExcelData(f))\n",
        "#for filename in os.listdir('dirname'):\n",
        "#     callthecommandhere(blablahbla, filename, foo)"
      ],
      "execution_count": 0,
      "outputs": []
    },
    {
      "cell_type": "markdown",
      "metadata": {
        "id": "jrz8RiJNxSC2",
        "colab_type": "text"
      },
      "source": [
        "# Some values which remain null are removed \n",
        "# Convert to csv"
      ]
    },
    {
      "cell_type": "code",
      "metadata": {
        "id": "qcq1EqIeLK8n",
        "colab_type": "code",
        "outputId": "203f6f20-dfd5-43e0-cc57-0ee5424f1258",
        "colab": {
          "base_uri": "https://localhost:8080/",
          "height": 35
        }
      },
      "source": [
        "file = r'/content/drive/My Drive/HDD/data/data_2015/2015/data_2015_revised.csv'\n",
        "df = pd.read_csv(file)\n",
        "df.shape"
      ],
      "execution_count": 0,
      "outputs": [
        {
          "output_type": "execute_result",
          "data": {
            "text/plain": [
              "(15862395, 93)"
            ]
          },
          "metadata": {
            "tags": []
          },
          "execution_count": 4
        }
      ]
    },
    {
      "cell_type": "code",
      "metadata": {
        "id": "YXXm0UUvQWI_",
        "colab_type": "code",
        "colab": {}
      },
      "source": [
        "df.dropna(axis = 1, how ='all', inplace = True)\n",
        "df.dropna(axis = 0,thresh=51, inplace=True)"
      ],
      "execution_count": 0,
      "outputs": []
    },
    {
      "cell_type": "code",
      "metadata": {
        "id": "RDPliRAcy-Zi",
        "colab_type": "code",
        "colab": {}
      },
      "source": [
        "os.chdir(\"/content/drive/My Drive/HDD/data/data_2015/2015\")"
      ],
      "execution_count": 0,
      "outputs": []
    },
    {
      "cell_type": "code",
      "metadata": {
        "id": "rEkUKC-g18Lr",
        "colab_type": "code",
        "colab": {}
      },
      "source": [
        "df.to_csv('data_2015_final.csv')"
      ],
      "execution_count": 0,
      "outputs": []
    },
    {
      "cell_type": "code",
      "metadata": {
        "id": "g0ahgF-H1jgP",
        "colab_type": "code",
        "outputId": "86776dbf-25e0-43ef-a413-01d901899778",
        "colab": {
          "base_uri": "https://localhost:8080/",
          "height": 35
        }
      },
      "source": [
        "df.shape"
      ],
      "execution_count": 0,
      "outputs": [
        {
          "output_type": "execute_result",
          "data": {
            "text/plain": [
              "(15242780, 91)"
            ]
          },
          "metadata": {
            "tags": []
          },
          "execution_count": 7
        }
      ]
    }
  ]
}